{
 "cells": [
  {
   "cell_type": "markdown",
   "metadata": {},
   "source": [
    "# Data Format And Export\n",
    "1. Classify ingredients\n",
    "2. Formats cocktails & generates cocktails_db.pkl file <i>(deployed with flask server)</i>\n",
    "3. Formats ingredients & generates ingredients_db.pkl f"
   ]
  },
  {
   "cell_type": "code",
   "execution_count": 7,
   "metadata": {},
   "outputs": [],
   "source": [
    "import pandas as pd\n",
    "import pickle\n",
    "import re\n",
    "from collections import OrderedDict, Counter\n",
    "from data_utils import preprocess, name_to_id\n",
    "\n",
    "cocktails = pickle.load(open('cleaned_cocktails.pkl', 'rb'))"
   ]
  },
  {
   "cell_type": "markdown",
   "metadata": {},
   "source": [
    "# 1. Classify & Format Ingredients "
   ]
  },
  {
   "cell_type": "code",
   "execution_count": 8,
   "metadata": {},
   "outputs": [],
   "source": [
    "# import manual data clean-up from here: https://docs.google.com/spreadsheets/d/1vx8_zaeBUoiW3gm0SWQSicsTAOnes82owozXdIyVHP0/edit#gid=1831899176\n",
    "idf = pd.read_csv('manual_ingredient_annotation.csv', index_col=0)\n",
    "idf['manual_name'] = idf.manual_name.str.title()"
   ]
  },
  {
   "cell_type": "code",
   "execution_count": 9,
   "metadata": {},
   "outputs": [
    {
     "name": "stdout",
     "output_type": "stream",
     "text": [
      "-----> Found 13412 total ingredients for 2980 total cocktails\n",
      "-----> Found 689 unique ingredients de-duping on name\n"
     ]
    }
   ],
   "source": [
    "df = pd.DataFrame([ing for cocktail in cocktails for ing in cocktail['ingredients']])\n",
    "print('-----> Found {} total ingredients for {} total cocktails'.format(len(df), len(cocktails)))\n",
    "df = df.drop_duplicates('name')\n",
    "print('-----> Found {} unique ingredients de-duping on name'.format(len(df)))\n",
    "\n",
    "df = df[['name', 'link']]\n",
    "\n",
    "# Splice in manual annotations\n",
    "df = pd.merge(df, idf[['name', 'manual_name']], how='inner', on='name')\n",
    "df['original_name'] = df.name\n",
    "df['name'] = df[['name', 'manual_name']].apply(lambda x: x['manual_name'] if not pd.isnull(x['manual_name']) else x['name'], axis=1)\n",
    "\n",
    "df['objectID'] = df.name.map(name_to_id)\n",
    "ing_map = dict(df[['original_name', 'name']].values)"
   ]
  },
  {
   "cell_type": "markdown",
   "metadata": {},
   "source": [
    "# 2. Formats Cocktails & Generate cocktails_db.pkl File"
   ]
  },
  {
   "cell_type": "code",
   "execution_count": 10,
   "metadata": {},
   "outputs": [],
   "source": [
    "def format_cocktail_ingredient(ing):\n",
    "    ing['original_name'] = ing['name']\n",
    "    ing['name'] = ing_map[ing['original_name']]\n",
    "    ing['id'] = name_to_id(ing['name'])\n",
    "    return ing\n",
    "    \n",
    "cdf = pd.DataFrame(cocktails)\n",
    "cdf['objectID'] = cdf.name.map(name_to_id)\n",
    "cdf['ingredients'] = cdf.ingredients.map(lambda x: [format_cocktail_ingredient(y) for y in x])\n",
    "cdf['num_ingredients'] = cdf.ingredients.map(lambda x: len(x))\n",
    "cdf['ingredient_categories'] = cdf.ingredients.map(lambda x: [y['id'] for y in x])\n",
    "pickle.dump(cdf, open('cocktails_db.pkl','wb'))"
   ]
  },
  {
   "cell_type": "markdown",
   "metadata": {},
   "source": [
    "# 3. Formats Ingredients & Generates ingredients_db.pkl File"
   ]
  },
  {
   "cell_type": "code",
   "execution_count": 11,
   "metadata": {},
   "outputs": [],
   "source": [
    "# Get # cocktails per ingredient (used for ranking purposes)\n",
    "c = Counter([ing for ing_list in cdf.ingredient_categories for ing in ing_list])\n",
    "icdf = pd.DataFrame(c.most_common(), columns=['objectID', 'count'])\n",
    "icdf['name'] = icdf.objectID.map(lambda x: x.replace('-', ' '))\n",
    "icdf['priority'] = icdf.name.map(lambda x: 1 if any (v in x for v in mapping) else 0)\n",
    "pickle.dump(icdf, open('ingredients_db.pkl','wb'))"
   ]
  },
  {
   "cell_type": "markdown",
   "metadata": {},
   "source": [
    "\n",
    "\n",
    "# SCRATCH\n",
    "\n",
    "## Explore Ingredient ngrams"
   ]
  },
  {
   "cell_type": "code",
   "execution_count": 39,
   "metadata": {},
   "outputs": [],
   "source": [
    "def get_ngrams(string, n=1):\n",
    "    tokens = string.split('-')\n",
    "    ngrams = []\n",
    "    ngrams = zip(*[tokens[i:] for i in range(n)])\n",
    "    return [\" \".join(ngram) for ngram in ngrams]\n",
    "        \n",
    "from collections import Counter\n",
    "c = Counter([ngram for x in df.name_clean.tolist() for ngram in get_ngrams(x, 2)]) "
   ]
  },
  {
   "cell_type": "code",
   "execution_count": 6,
   "metadata": {
    "tags": []
   },
   "outputs": [],
   "source": [
    "def cr(keywords):\n",
    "    return re.compile(r'\\b' + r'\\b|\\b'.join(keywords) + r'\\b')\n",
    "\n",
    "mapping = OrderedDict({\n",
    "    'vodka':cr(['vodka']),\n",
    "    'tequila':cr(['tequila']),\n",
    "    'vermouth':cr(['vermouth', 'noilly prat extra dry']),\n",
    "    'mezcal':cr(['mezcal']),\n",
    "    'brandy':cr(['brandy', 'avallen calvados']),\n",
    "    'rum':cr(['rum']),\n",
    "    'whiskey':cr(['whiskey', 'scotch', 'whisky']),\n",
    "    'gin':cr(['gin']),\n",
    "    'amaro':cr(['amaro']),\n",
    "    'sherry':cr(['sherry']),\n",
    "    'coffee liqueur': cr(['coffee.*liqueur', 'kahlua']),\n",
    "    'irish cream liqueur':cr(['irish cream liqueur']),\n",
    "    'cinnamon schnapps':cr(['cinnamon schnapps']),\n",
    "    'apple schnapps':cr(['apple schnapps']),\n",
    "    'peach schnapps':cr(['peach schnapps']),\n",
    "    'triple sec': cr(['triple sec']),\n",
    "    'st-germain': cr(['st-germain', 'st germain', 'stgermain']),\n",
    "    'sambuca': cr(['sambuca']),\n",
    "    'grand marnier':cr(['grand marnier']),\n",
    "    'cognac':cr(['cognac']),\n",
    "    'tonic water':cr(['tonic water', 'soda water']),\n",
    "    'white wine':cr(['white wine']),\n",
    "    'red wine':cr(['red wine']),\n",
    "    'port wine':cr(['port']),\n",
    "    'simple syrup':cr(['sugar syrup','simple syrup', 'cane syrup']),\n",
    "    'bitters':cr(['bitters']),\n",
    "    'lime juice':cr(['lime']),\n",
    "    'lemon juice':cr(['lemon']),\n",
    "    'apple juice':cr(['apple juice']),\n",
    "    'pineapple juice':cr(['pineapple juice']),\n",
    "    'cranberry juice':cr(['cranberry juice']),\n",
    "    'absinthe':cr(['absinthe']),\n",
    "    'coffee':cr(['coffee', 'espresso']),\n",
    "    'egg':cr(['egg']),\n",
    "    'orange juice':cr(['orange']),\n",
    "    'tea':cr(['tea']),\n",
    "    'grenadine':cr(['grenadine']),\n",
    "    'ginger ale':cr(['ginger ale']),\n",
    "    'kiwi':cr(['kiwi fruit']),\n",
    "    'watermelon':cr(['watermelon']),\n",
    "    'passion fruit':cr(['passion fruit']),\n",
    "    'champagne':cr(['champagne']),\n",
    "    'amaretto':cr(['amaretto']),\n",
    "    'worcestershire sauce':cr(['worcestershire sauce']),\n",
    "    'kumquats':cr(['kumquats']),\n",
    "    'basil':cr(['basil']),\n",
    "    'sprite':cr(['lemonlime soda', 'sprite', '7up']),\n",
    "    'cola':cr(['cola']),\n",
    "    'figs':cr(['figs']),\n",
    "    'mint':cr(['mint']),\n",
    "    'pear':cr(['pear']),\n",
    "    'water':cr(['water']),\n",
    "    'ice':cr(['ice cubes?'])\n",
    "})\n",
    "\n",
    "# # def classify(ingredient):\n",
    "# #     for key, reg in mapping.items():\n",
    "# #         if reg.findall(ingredient):\n",
    "# #             return key\n",
    "# #     return ingredient\n",
    "\n",
    "# # df['category'] = df.name_clean.map(classify)\n",
    "# # ing_map = dict(df[['objectID', 'category']].values)"
   ]
  },
  {
   "cell_type": "code",
   "execution_count": 3,
   "metadata": {},
   "outputs": [],
   "source": [
    "js = \"\\n{\\n  \\\"name\\\": \\\"Highland Mule\\\",\\n  \\\"ingredients\\\": [\\n    {\\n      \\\"quantity\\\": 2 fl oz, \\n      \\\"name\\\": Scotch Whiskey\\n    }, \\n    {  \\n      \\\"quantity\\\": 1/2 fl oz, \\n      \\\"name\\\": Lime Juice  \\t\\t\\t\\t  \\t       }, \\n\\n    {  \\n       \\\"quantity: 1 egg white\\\"     ,             },\\n\\n    {                                         }\\n\\n     {                                        }\\n\\n     {\\\"Quantity: 3/4 fl oz White Wine        }, \\n\\n     {\\\"Quantity: 3/4 cup Coca Cola           },\\n\\n     {\\\"Quantity: 1/2 cup Sprite              },\\n\\n     {\\\"Quantity: 1/4 cup Cranberry Juice     },\\n\\n     {\\\"Quantity: 4 dashes Orange Bitters      }],                   ],                  ]},               ],              ]},            ],          ]},        ],         ],       ],\\\"directions\\\":\\\"Shake all ingredients with ice and strain into a chilled glass. Garnish with a lime wedge.\\\",\\\"serving container\\\":\\\"Collins Glass\\\"}\""
   ]
  },
  {
   "cell_type": "code",
   "execution_count": 7,
   "metadata": {},
   "outputs": [],
   "source": [
    "import json"
   ]
  },
  {
   "cell_type": "code",
   "execution_count": 11,
   "metadata": {},
   "outputs": [],
   "source": [
    "from ast import literal_eval"
   ]
  },
  {
   "cell_type": "code",
   "execution_count": null,
   "metadata": {},
   "outputs": [],
   "source": [
    "js ="
   ]
  },
  {
   "cell_type": "code",
   "execution_count": 17,
   "metadata": {},
   "outputs": [
    {
     "data": {
      "text/plain": [
       "{'name': 'Bald Eagle',\n",
       " 'ingredients': ['2 fl oz of Reposado Tequila',\n",
       "  '3/4 fl oz of Grapefruit Juice',\n",
       "  '1/2 fl oz of Cranberry Juice',\n",
       "  '1/4 fl oz of Lemon Juice',\n",
       "  '1/4 fl oz of Simple Syrup'],\n",
       " 'directions': 'Throw all ingredients with ice and strain into chilled glass',\n",
       " 'serving_container': 'couple glass'}"
      ]
     },
     "execution_count": 17,
     "metadata": {},
     "output_type": "execute_result"
    }
   ],
   "source": [
    "literal_eval('{\"name\": \"Bald Eagle\",\"ingredients\": [\"2 fl oz of Reposado Tequila\",\"3/4 fl oz of Grapefruit Juice\",\"1/2 fl oz of Cranberry Juice\", \"1/4 fl oz of Lemon Juice\", \"1/4 fl oz of Simple Syrup\"], \"directions\": \"Throw all ingredients with ice and strain into chilled glass\", \"serving_container\": \"couple glass\"}')"
   ]
  },
  {
   "cell_type": "code",
   "execution_count": 14,
   "metadata": {},
   "outputs": [
    {
     "ename": "SyntaxError",
     "evalue": "invalid syntax (<unknown>, line 1)",
     "output_type": "error",
     "traceback": [
      "Traceback \u001b[0;36m(most recent call last)\u001b[0m:\n",
      "  File \u001b[1;32m/usr/local/lib/python3.9/site-packages/IPython/core/interactiveshell.py:3251\u001b[0m in \u001b[1;35mrun_code\u001b[0m\n    exec(code_obj, self.user_global_ns, self.user_ns)\n",
      "  Input \u001b[1;32mIn [14]\u001b[0m in \u001b[1;35m<module>\u001b[0m\n    literal_eval('{\\\"name\\\": \\\"Scotch and Lime Fizz\\\",\\\"ingredients\\\": [{\\\"name\\\": \\\"Scotch Whiskey\\\",\\\"quantity\\\": \\\"2 fl oz\\\"},{\\\"name\\\": \\\"Lime Juice\\\",\\\"quantity\\\":\\\"1/2 fl oz\\\"},{\\\"name\\\":\\\"Egg White\\\",\\\"quantity\\\":\\\"1 ea\\\"},{\\\"name\\\":\\\"White Wine\\\",\\\"quantity\\\":\\\"3/4 fl oz\\\"},{\\\"name\\\":\\\"Coca Cola\\\",\\\"quantity\\\":\\\"3/4 fl oz\\\"},{\\\"name\\\":\\\"Sprite\\\",\\\"quantity\\\":\\\"\\\",\\\"3/4fl oz},{\\\"Name\\\" :\\\"Cranberry Juice\\\", \\\"Quantity\\\" :\\\"1/4 fl ox\\\"}, {\\\"Name\\\":  \\\"Orange Bitters\\\",  \\\"Quantity\\\" :  1 dash}],\\\"directions\\\":\\\"\\\",\\\"Fill shaker with ice, add all ingredients except the soda, shake vigorously. Strain into a highball glass filled with fresh ice and top off with soda. Garnish with lime wedge.\\\",\\\"serving_container\\\":     \\\"highball glass\\\"}')\n",
      "  File \u001b[1;32m/usr/local/Cellar/python@3.9/3.9.8/Frameworks/Python.framework/Versions/3.9/lib/python3.9/ast.py:62\u001b[0m in \u001b[1;35mliteral_eval\u001b[0m\n    node_or_string = parse(node_or_string, mode='eval')\n",
      "\u001b[0;36m  File \u001b[0;32m/usr/local/Cellar/python@3.9/3.9.8/Frameworks/Python.framework/Versions/3.9/lib/python3.9/ast.py:50\u001b[0;36m in \u001b[0;35mparse\u001b[0;36m\u001b[0m\n\u001b[0;31m    return compile(source, filename, mode, flags,\u001b[0m\n",
      "\u001b[0;36m  File \u001b[0;32m<unknown>:1\u001b[0;36m\u001b[0m\n\u001b[0;31m    {\"name\": \"Scotch and Lime Fizz\",\"ingredients\": [{\"name\": \"Scotch Whiskey\",\"quantity\": \"2 fl oz\"},{\"name\": \"Lime Juice\",\"quantity\":\"1/2 fl oz\"},{\"name\":\"Egg White\",\"quantity\":\"1 ea\"},{\"name\":\"White Wine\",\"quantity\":\"3/4 fl oz\"},{\"name\":\"Coca Cola\",\"quantity\":\"3/4 fl oz\"},{\"name\":\"Sprite\",\"quantity\":\"\",\"3/4fl oz},{\"Name\" :\"Cranberry Juice\", \"Quantity\" :\"1/4 fl ox\"}, {\"Name\":  \"Orange Bitters\",  \"Quantity\" :  1 dash}],\"directions\":\"\",\"Fill shaker with ice, add all ingredients except the soda, shake vigorously. Strain into a highball glass filled with fresh ice and top off with soda. Garnish with lime wedge.\",\"serving_container\":     \"highball glass\"}\u001b[0m\n\u001b[0m                                                                                                                                                                                                                                                                                                                               ^\u001b[0m\n\u001b[0;31mSyntaxError\u001b[0m\u001b[0;31m:\u001b[0m invalid syntax\n"
     ]
    }
   ],
   "source": [
    "literal_eval('{\\\"name\\\": \\\"Scotch and Lime Fizz\\\",\\\"ingredients\\\": [{\\\"name\\\": \\\"Scotch Whiskey\\\",\\\"quantity\\\": \\\"2 fl oz\\\"},{\\\"name\\\": \\\"Lime Juice\\\",\\\"quantity\\\":\\\"1/2 fl oz\\\"},{\\\"name\\\":\\\"Egg White\\\",\\\"quantity\\\":\\\"1 ea\\\"},{\\\"name\\\":\\\"White Wine\\\",\\\"quantity\\\":\\\"3/4 fl oz\\\"},{\\\"name\\\":\\\"Coca Cola\\\",\\\"quantity\\\":\\\"3/4 fl oz\\\"},{\\\"name\\\":\\\"Sprite\\\",\\\"quantity\\\":\\\"\\\",\\\"3/4fl oz},{\\\"Name\\\" :\\\"Cranberry Juice\\\", \\\"Quantity\\\" :\\\"1/4 fl ox\\\"}, {\\\"Name\\\":  \\\"Orange Bitters\\\",  \\\"Quantity\\\" :  1 dash}],\\\"directions\\\":\\\"\\\",\\\"Fill shaker with ice, add all ingredients except the soda, shake vigorously. Strain into a highball glass filled with fresh ice and top off with soda. Garnish with lime wedge.\\\",\\\"serving_container\\\":     \\\"highball glass\\\"}')"
   ]
  },
  {
   "cell_type": "code",
   "execution_count": 5,
   "metadata": {},
   "outputs": [],
   "source": [
    "js = '{\\\"name\\\": \\\"Scotch and Lime Fizz\\\",\\\"ingredients\\\": [{\\\"name\\\": \\\"Scotch Whiskey\\\",\\\"quantity\\\": \\\"2 fl oz\\\"},{\\\"name\\\": \\\"Lime Juice\\\",\\\"quantity\\\":\\\"1/2 fl oz\\\"},{\\\"name\\\":\\\"Egg White\\\",\\\"quantity\\\":\\\"1 ea\\\"},{\\\"name\\\":\\\"White Wine\\\",\\\"quantity\\\":\\\"3/4 fl oz\\\"},{\\\"name\\\":\\\"Coca Cola\\\",\\\"quantity\\\":\\\"3/4 fl oz\\\"},{\\\"name\\\":\\\"Sprite\\\",\\\"quantity\\\":\\\"\\\",\\\"3/4fl oz},{\\\"Name\\\" :\\\"Cranberry Juice\\\", \\\"Quantity\\\" :\\\"1/4 fl ox\\\"}, {\\\"Name\\\":  \\\"Orange Bitters\\\",  \\\"Quantity\\\" :  1 dash}],\\\"directions\\\":\\\"\\\",\\\"Fill shaker with ice, add all ingredients except the soda, shake vigorously. Strain into a highball glass filled with fresh ice and top off with soda. Garnish with lime wedge.\\\",\\\"serving_container\\\":     \\\"highball glass\\\"}'"
   ]
  },
  {
   "cell_type": "code",
   "execution_count": 9,
   "metadata": {},
   "outputs": [
    {
     "ename": "JSONDecodeError",
     "evalue": "Expecting ':' delimiter: line 1 column 316 (char 315)",
     "output_type": "error",
     "traceback": [
      "\u001b[0;31m---------------------------------------------------------------------------\u001b[0m",
      "\u001b[0;31mJSONDecodeError\u001b[0m                           Traceback (most recent call last)",
      "Input \u001b[0;32mIn [9]\u001b[0m, in \u001b[0;36m<module>\u001b[0;34m\u001b[0m\n\u001b[0;32m----> 1\u001b[0m \u001b[43mjson\u001b[49m\u001b[38;5;241;43m.\u001b[39;49m\u001b[43mloads\u001b[49m\u001b[43m(\u001b[49m\u001b[43mjs\u001b[49m\u001b[38;5;241;43m.\u001b[39;49m\u001b[43mstrip\u001b[49m\u001b[43m(\u001b[49m\u001b[43m)\u001b[49m\u001b[43m)\u001b[49m\n",
      "File \u001b[0;32m/usr/local/Cellar/python@3.9/3.9.8/Frameworks/Python.framework/Versions/3.9/lib/python3.9/json/__init__.py:346\u001b[0m, in \u001b[0;36mloads\u001b[0;34m(s, cls, object_hook, parse_float, parse_int, parse_constant, object_pairs_hook, **kw)\u001b[0m\n\u001b[1;32m    341\u001b[0m     s \u001b[38;5;241m=\u001b[39m s\u001b[38;5;241m.\u001b[39mdecode(detect_encoding(s), \u001b[38;5;124m'\u001b[39m\u001b[38;5;124msurrogatepass\u001b[39m\u001b[38;5;124m'\u001b[39m)\n\u001b[1;32m    343\u001b[0m \u001b[38;5;28;01mif\u001b[39;00m (\u001b[38;5;28mcls\u001b[39m \u001b[38;5;129;01mis\u001b[39;00m \u001b[38;5;28;01mNone\u001b[39;00m \u001b[38;5;129;01mand\u001b[39;00m object_hook \u001b[38;5;129;01mis\u001b[39;00m \u001b[38;5;28;01mNone\u001b[39;00m \u001b[38;5;129;01mand\u001b[39;00m\n\u001b[1;32m    344\u001b[0m         parse_int \u001b[38;5;129;01mis\u001b[39;00m \u001b[38;5;28;01mNone\u001b[39;00m \u001b[38;5;129;01mand\u001b[39;00m parse_float \u001b[38;5;129;01mis\u001b[39;00m \u001b[38;5;28;01mNone\u001b[39;00m \u001b[38;5;129;01mand\u001b[39;00m\n\u001b[1;32m    345\u001b[0m         parse_constant \u001b[38;5;129;01mis\u001b[39;00m \u001b[38;5;28;01mNone\u001b[39;00m \u001b[38;5;129;01mand\u001b[39;00m object_pairs_hook \u001b[38;5;129;01mis\u001b[39;00m \u001b[38;5;28;01mNone\u001b[39;00m \u001b[38;5;129;01mand\u001b[39;00m \u001b[38;5;129;01mnot\u001b[39;00m kw):\n\u001b[0;32m--> 346\u001b[0m     \u001b[38;5;28;01mreturn\u001b[39;00m \u001b[43m_default_decoder\u001b[49m\u001b[38;5;241;43m.\u001b[39;49m\u001b[43mdecode\u001b[49m\u001b[43m(\u001b[49m\u001b[43ms\u001b[49m\u001b[43m)\u001b[49m\n\u001b[1;32m    347\u001b[0m \u001b[38;5;28;01mif\u001b[39;00m \u001b[38;5;28mcls\u001b[39m \u001b[38;5;129;01mis\u001b[39;00m \u001b[38;5;28;01mNone\u001b[39;00m:\n\u001b[1;32m    348\u001b[0m     \u001b[38;5;28mcls\u001b[39m \u001b[38;5;241m=\u001b[39m JSONDecoder\n",
      "File \u001b[0;32m/usr/local/Cellar/python@3.9/3.9.8/Frameworks/Python.framework/Versions/3.9/lib/python3.9/json/decoder.py:337\u001b[0m, in \u001b[0;36mJSONDecoder.decode\u001b[0;34m(self, s, _w)\u001b[0m\n\u001b[1;32m    332\u001b[0m \u001b[38;5;28;01mdef\u001b[39;00m \u001b[38;5;21mdecode\u001b[39m(\u001b[38;5;28mself\u001b[39m, s, _w\u001b[38;5;241m=\u001b[39mWHITESPACE\u001b[38;5;241m.\u001b[39mmatch):\n\u001b[1;32m    333\u001b[0m     \u001b[38;5;124;03m\"\"\"Return the Python representation of ``s`` (a ``str`` instance\u001b[39;00m\n\u001b[1;32m    334\u001b[0m \u001b[38;5;124;03m    containing a JSON document).\u001b[39;00m\n\u001b[1;32m    335\u001b[0m \n\u001b[1;32m    336\u001b[0m \u001b[38;5;124;03m    \"\"\"\u001b[39;00m\n\u001b[0;32m--> 337\u001b[0m     obj, end \u001b[38;5;241m=\u001b[39m \u001b[38;5;28;43mself\u001b[39;49m\u001b[38;5;241;43m.\u001b[39;49m\u001b[43mraw_decode\u001b[49m\u001b[43m(\u001b[49m\u001b[43ms\u001b[49m\u001b[43m,\u001b[49m\u001b[43m \u001b[49m\u001b[43midx\u001b[49m\u001b[38;5;241;43m=\u001b[39;49m\u001b[43m_w\u001b[49m\u001b[43m(\u001b[49m\u001b[43ms\u001b[49m\u001b[43m,\u001b[49m\u001b[43m \u001b[49m\u001b[38;5;241;43m0\u001b[39;49m\u001b[43m)\u001b[49m\u001b[38;5;241;43m.\u001b[39;49m\u001b[43mend\u001b[49m\u001b[43m(\u001b[49m\u001b[43m)\u001b[49m\u001b[43m)\u001b[49m\n\u001b[1;32m    338\u001b[0m     end \u001b[38;5;241m=\u001b[39m _w(s, end)\u001b[38;5;241m.\u001b[39mend()\n\u001b[1;32m    339\u001b[0m     \u001b[38;5;28;01mif\u001b[39;00m end \u001b[38;5;241m!=\u001b[39m \u001b[38;5;28mlen\u001b[39m(s):\n",
      "File \u001b[0;32m/usr/local/Cellar/python@3.9/3.9.8/Frameworks/Python.framework/Versions/3.9/lib/python3.9/json/decoder.py:353\u001b[0m, in \u001b[0;36mJSONDecoder.raw_decode\u001b[0;34m(self, s, idx)\u001b[0m\n\u001b[1;32m    344\u001b[0m \u001b[38;5;124;03m\"\"\"Decode a JSON document from ``s`` (a ``str`` beginning with\u001b[39;00m\n\u001b[1;32m    345\u001b[0m \u001b[38;5;124;03ma JSON document) and return a 2-tuple of the Python\u001b[39;00m\n\u001b[1;32m    346\u001b[0m \u001b[38;5;124;03mrepresentation and the index in ``s`` where the document ended.\u001b[39;00m\n\u001b[0;32m   (...)\u001b[0m\n\u001b[1;32m    350\u001b[0m \n\u001b[1;32m    351\u001b[0m \u001b[38;5;124;03m\"\"\"\u001b[39;00m\n\u001b[1;32m    352\u001b[0m \u001b[38;5;28;01mtry\u001b[39;00m:\n\u001b[0;32m--> 353\u001b[0m     obj, end \u001b[38;5;241m=\u001b[39m \u001b[38;5;28;43mself\u001b[39;49m\u001b[38;5;241;43m.\u001b[39;49m\u001b[43mscan_once\u001b[49m\u001b[43m(\u001b[49m\u001b[43ms\u001b[49m\u001b[43m,\u001b[49m\u001b[43m \u001b[49m\u001b[43midx\u001b[49m\u001b[43m)\u001b[49m\n\u001b[1;32m    354\u001b[0m \u001b[38;5;28;01mexcept\u001b[39;00m \u001b[38;5;167;01mStopIteration\u001b[39;00m \u001b[38;5;28;01mas\u001b[39;00m err:\n\u001b[1;32m    355\u001b[0m     \u001b[38;5;28;01mraise\u001b[39;00m JSONDecodeError(\u001b[38;5;124m\"\u001b[39m\u001b[38;5;124mExpecting value\u001b[39m\u001b[38;5;124m\"\u001b[39m, s, err\u001b[38;5;241m.\u001b[39mvalue) \u001b[38;5;28;01mfrom\u001b[39;00m \u001b[38;5;28mNone\u001b[39m\n",
      "\u001b[0;31mJSONDecodeError\u001b[0m: Expecting ':' delimiter: line 1 column 316 (char 315)"
     ]
    }
   ],
   "source": [
    "json.loads(js.strip())"
   ]
  },
  {
   "cell_type": "code",
   "execution_count": 10,
   "metadata": {},
   "outputs": [
    {
     "ename": "NameError",
     "evalue": "name 'literal_eval' is not defined",
     "output_type": "error",
     "traceback": [
      "\u001b[0;31m---------------------------------------------------------------------------\u001b[0m",
      "\u001b[0;31mNameError\u001b[0m                                 Traceback (most recent call last)",
      "Input \u001b[0;32mIn [10]\u001b[0m, in \u001b[0;36m<module>\u001b[0;34m\u001b[0m\n\u001b[0;32m----> 1\u001b[0m \u001b[43mliteral_eval\u001b[49m\n",
      "\u001b[0;31mNameError\u001b[0m: name 'literal_eval' is not defined"
     ]
    }
   ],
   "source": [
    "literal_eval"
   ]
  },
  {
   "cell_type": "code",
   "execution_count": null,
   "metadata": {},
   "outputs": [],
   "source": []
  }
 ],
 "metadata": {
  "kernelspec": {
   "display_name": "Python 3 (ipykernel)",
   "language": "python",
   "name": "python3"
  },
  "language_info": {
   "codemirror_mode": {
    "name": "ipython",
    "version": 3
   },
   "file_extension": ".py",
   "mimetype": "text/x-python",
   "name": "python",
   "nbconvert_exporter": "python",
   "pygments_lexer": "ipython3",
   "version": "3.9.8"
  }
 },
 "nbformat": 4,
 "nbformat_minor": 4
}
