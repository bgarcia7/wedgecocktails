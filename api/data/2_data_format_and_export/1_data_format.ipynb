{
 "cells": [
  {
   "cell_type": "markdown",
   "metadata": {},
   "source": [
    "# Data Format And Export\n",
    "1. Classify ingredients\n",
    "2. Formats cocktails & generates cocktails_db.pkl file <i>(deployed with flask server)</i>\n",
    "3. Formats ingredients & generates ingredients_db.pkl f"
   ]
  },
  {
   "cell_type": "code",
   "execution_count": 98,
   "metadata": {},
   "outputs": [],
   "source": [
    "import pandas as pd\n",
    "import pickle\n",
    "import re\n",
    "from collections import OrderedDict, Counter\n",
    "from data_utils import preprocess, name_to_id\n",
    "\n",
    "cocktails = pickle.load(open('cleaned_cocktails.pkl', 'rb'))"
   ]
  },
  {
   "cell_type": "markdown",
   "metadata": {},
   "source": [
    "# 1. Classify & Format Ingredients "
   ]
  },
  {
   "cell_type": "code",
   "execution_count": 99,
   "metadata": {},
   "outputs": [
    {
     "name": "stdout",
     "output_type": "stream",
     "text": [
      "-----> Found 13412 total ingredients for 2980 total cocktails\n",
      "-----> Found 689 unique ingredients de-duping on name\n"
     ]
    }
   ],
   "source": [
    "df = pd.DataFrame([ing for cocktail in cocktails for ing in cocktail['ingredients']])\n",
    "print('-----> Found {} total ingredients for {} total cocktails'.format(len(df), len(cocktails)))\n",
    "df = df.drop_duplicates('name')\n",
    "print('-----> Found {} unique ingredients de-duping on name'.format(len(df)))\n",
    "\n",
    "df = df[['name', 'link']]\n",
    "df['name_clean'] = df.name.map(preprocess)\n",
    "df['objectID'] = df.name.map(name_to_id)"
   ]
  },
  {
   "cell_type": "code",
   "execution_count": 100,
   "metadata": {},
   "outputs": [],
   "source": [
    "def cr(keywords):\n",
    "    return re.compile(r'\\b' + r'\\b|\\b'.join(keywords) + r'\\b')\n",
    "\n",
    "mapping = OrderedDict({\n",
    "    'vodka':cr(['vodka']),\n",
    "    'tequila':cr(['tequila']),\n",
    "    'vermouth':cr(['vermouth', 'noilly prat extra dry']),\n",
    "    'mezcal':cr(['mezcal']),\n",
    "    'brandy':cr(['brandy', 'avallen calvados']),\n",
    "    'rum':cr(['rum']),\n",
    "    'whiskey':cr(['whiskey', 'scotch', 'whisky']),\n",
    "    'gin':cr(['gin']),\n",
    "    'amaro':cr(['amaro']),\n",
    "    'sherry':cr(['sherry']),\n",
    "    'coffee liqueur': cr(['coffee.*liqueur', 'kahlua']),\n",
    "    'irish cream liqueur':cr(['irish cream liqueur']),\n",
    "    'cinnamon schnapps':cr(['cinnamon schnapps']),\n",
    "    'apple schnapps':cr(['apple schnapps']),\n",
    "    'peach schnapps':cr(['peach schnapps']),\n",
    "    'triple sec': cr(['triple sec']),\n",
    "    'st-germain': cr(['st-germain', 'st germain', 'stgermain']),\n",
    "    'sambuca': cr(['sambuca']),\n",
    "    'grand marnier':cr(['grand marnier']),\n",
    "    'cognac':cr(['cognac']),\n",
    "    'tonic water':cr(['tonic water', 'soda water']),\n",
    "    'white wine':cr(['white wine']),\n",
    "    'red wine':cr(['red wine']),\n",
    "    'port wine':cr(['port']),\n",
    "    'simple syrup':cr(['sugar syrup','simple syrup', 'cane syrup']),\n",
    "    'bitters':cr(['bitters']),\n",
    "    'lime juice':cr(['lime']),\n",
    "    'lemon juice':cr(['lemon']),\n",
    "    'apple juice':cr(['apple juice']),\n",
    "    'pineapple juice':cr(['pineapple juice']),\n",
    "    'cranberry juice':cr(['cranberry juice']),\n",
    "    'absinthe':cr(['absinthe']),\n",
    "    'coffee':cr(['coffee', 'espresso']),\n",
    "    'egg':cr(['egg']),\n",
    "    'orange juice':cr(['orange']),\n",
    "    'tea':cr(['tea']),\n",
    "    'grenadine':cr(['grenadine']),\n",
    "    'ginger ale':cr(['ginger ale']),\n",
    "    'kiwi':cr(['kiwi fruit']),\n",
    "    'watermelon':cr(['watermelon']),\n",
    "    'passion fruit':cr(['passion fruit']),\n",
    "    'champagne':cr(['champagne']),\n",
    "    'amaretto':cr(['amaretto']),\n",
    "    'worcestershire sauce':cr(['worcestershire sauce']),\n",
    "    'kumquats':cr(['kumquats']),\n",
    "    'basil':cr(['basil']),\n",
    "    'sprite':cr(['lemonlime soda', 'sprite', '7up']),\n",
    "    'cola':cr(['cola']),\n",
    "    'figs':cr(['figs']),\n",
    "    'mint':cr(['mint']),\n",
    "    'pear':cr(['pear']),\n",
    "    'water':cr(['water']),\n",
    "    'ice':cr(['ice cubes?'])\n",
    "})\n",
    "\n",
    "def classify(ingredient):\n",
    "    for key, reg in mapping.items():\n",
    "        if reg.findall(ingredient):\n",
    "            return key\n",
    "    return ingredient\n",
    "\n",
    "df['category'] = df.name_clean.map(classify)\n",
    "ing_map = dict(df[['objectID', 'category']].values)"
   ]
  },
  {
   "cell_type": "markdown",
   "metadata": {},
   "source": [
    "# 2. Formats Cocktails & Generate cocktails_db.pkl File"
   ]
  },
  {
   "cell_type": "code",
   "execution_count": 101,
   "metadata": {},
   "outputs": [],
   "source": [
    "def format_cocktail_ingredient(ing):\n",
    "    ing['id'] = name_to_id(ing['name'])\n",
    "    ing['category_id'] = name_to_id(ing_map[ing['id']])\n",
    "#     try:\n",
    "#         ing['name'] = ing['name'].encode('latin1').decode('utf-8')\n",
    "#         print('did encode', ing['name'])\n",
    "#     except:\n",
    "#         print('failed to encode', ing['name'])\n",
    "    return ing\n",
    "    \n",
    "cdf = pd.DataFrame(cocktails)\n",
    "cdf['objectID'] = cdf.name.map(name_to_id)\n",
    "cdf['ingredients'] = cdf.ingredients.map(lambda x: [format_cocktail_ingredient(y) for y in x])\n",
    "cdf['num_ingredients'] = cdf.ingredients.map(lambda x: len(x))\n",
    "cdf['ingredient_categories'] = cdf.ingredients.map(lambda x: [y['category_id'] for y in x])\n",
    "pickle.dump(cdf, open('cocktails_db.pkl','wb'))"
   ]
  },
  {
   "cell_type": "markdown",
   "metadata": {},
   "source": [
    "# 3. Formats Ingredients & Generates ingredients_db.pkl File"
   ]
  },
  {
   "cell_type": "code",
   "execution_count": 102,
   "metadata": {},
   "outputs": [],
   "source": [
    "# Get # cocktails per ingredient (used for ranking purposes)\n",
    "c = Counter([ing for ing_list in cdf.ingredient_categories for ing in ing_list])\n",
    "icdf = pd.DataFrame(c.most_common(), columns=['objectID', 'count'])\n",
    "icdf['name'] = icdf.objectID.map(lambda x: x.replace('-', ' '))\n",
    "icdf['priority'] = icdf.name.map(lambda x: 1 if x in mapping else 0)\n",
    "pickle.dump(icdf, open('ingredients_db.pkl','wb'))"
   ]
  },
  {
   "cell_type": "markdown",
   "metadata": {},
   "source": [
    "\n",
    "\n",
    "# SCRATCH\n",
    "\n",
    "## Explore Ingredient ngrams"
   ]
  },
  {
   "cell_type": "code",
   "execution_count": 39,
   "metadata": {},
   "outputs": [],
   "source": [
    "def get_ngrams(string, n=1):\n",
    "    tokens = string.split('-')\n",
    "    ngrams = []\n",
    "    ngrams = zip(*[tokens[i:] for i in range(n)])\n",
    "    return [\" \".join(ngram) for ngram in ngrams]\n",
    "        \n",
    "from collections import Counter\n",
    "c = Counter([ngram for x in df.name_clean.tolist() for ngram in get_ngrams(x, 2)]) "
   ]
  }
 ],
 "metadata": {
  "kernelspec": {
   "display_name": "Python 3",
   "language": "python",
   "name": "python3"
  },
  "language_info": {
   "codemirror_mode": {
    "name": "ipython",
    "version": 3
   },
   "file_extension": ".py",
   "mimetype": "text/x-python",
   "name": "python",
   "nbconvert_exporter": "python",
   "pygments_lexer": "ipython3",
   "version": "3.7.3"
  }
 },
 "nbformat": 4,
 "nbformat_minor": 4
}
