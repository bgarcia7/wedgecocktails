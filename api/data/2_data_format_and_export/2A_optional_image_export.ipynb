{
 "cells": [
  {
   "cell_type": "code",
   "execution_count": 8,
   "metadata": {},
   "outputs": [],
   "source": [
    "import boto3\n",
    "\n",
    "bucket_name='wedgecocktail-ingredient-images'\n",
    "session = boto3.Session(profile_name='default')\n",
    "client = session.client('s3', region_name='us-west-2')\n",
    "s3_images = [key['Key'] for key in client.list_objects(Bucket=bucket_name)['Contents']]"
   ]
  },
  {
   "cell_type": "code",
   "execution_count": 9,
   "metadata": {},
   "outputs": [],
   "source": [
    "import pickle\n",
    "cdf = pickle.load(open('../2_data_format_and_export/cocktails_db.pkl', 'rb'))\n",
    "idf = pickle.load(open('../2_data_format_and_export/ingredients_db.pkl', 'rb'))"
   ]
  },
  {
   "cell_type": "markdown",
   "metadata": {},
   "source": [
    "## Get best ingredient category mapping from category_id: image_link based on prevalence of various ingredients"
   ]
  },
  {
   "cell_type": "code",
   "execution_count": 19,
   "metadata": {},
   "outputs": [],
   "source": [
    "from collections import Counter, defaultdict\n",
    "ings = [ing for ing_list in cdf.ingredients.tolist() for ing in ing_list]\n",
    "ing_counts = dict(Counter([ing['id'] for ing in ings if ing['link']]))\n",
    "ing_links = dict([(ing['id'], ing['link']) for ing in ings if ing['link']])\n",
    "\n",
    "ing_cat_ids = defaultdict(list)\n",
    "for ing in ings:\n",
    "    if ing['link']:\n",
    "        ing_cat_ids[ing['id']].append(ing['id'])\n",
    "        \n",
    "ing_cat_links = {}\n",
    "for cat in ing_cat_ids:\n",
    "    ing_cat_links[cat] = ing_links[max(ing_cat_ids[cat],key=lambda x: ing_counts[x])]"
   ]
  },
  {
   "cell_type": "code",
   "execution_count": 20,
   "metadata": {},
   "outputs": [
    {
     "name": "stdout",
     "output_type": "stream",
     "text": [
      "NOT FOUND:  _beer-wine-spirits_874_chartreuse-verte-green-chartreuse.txt\n",
      "NOT FOUND:  _beer-wine-spirits_6358_ketel-one-cucumber-and-mint.txt\n"
     ]
    }
   ],
   "source": [
    "from bs4 import BeautifulSoup as soup\n",
    "images = dict()\n",
    "for category_id in ing_cat_links:\n",
    "    if category_id + '.png' not in s3_images:\n",
    "        url = ing_cat_links[category_id]\n",
    "        file_path = url.replace('/', '_') + '.txt'\n",
    "        try:\n",
    "            with open('../0_data_scraping/diffordsguide_ingredients/' + file_path,'rb') as f:\n",
    "                content = f.read()\n",
    "                page = soup(content)\n",
    "                # Get image_url\n",
    "                image_container_classes = ['product-gallery__display', 'product-gallery-static']\n",
    "                image = None\n",
    "                for iclass in image_container_classes:\n",
    "                    div = page.find('div', {'class':iclass})\n",
    "                    if div and div.find('img'):\n",
    "                        image = div.find('img').get('src')\n",
    "                        break\n",
    "                if not image:\n",
    "                    image = page.find('section', {'class':'grid-container'}).find('img').get('src')\n",
    "                if not image:\n",
    "                    print('failed to pull image: ', category_id)\n",
    "                else:\n",
    "                    images[category_id] = image\n",
    "        except:\n",
    "            print('NOT FOUND: ', file_path)"
   ]
  },
  {
   "cell_type": "markdown",
   "metadata": {},
   "source": [
    "# Download various images and upload to s3"
   ]
  },
  {
   "cell_type": "code",
   "execution_count": 23,
   "metadata": {},
   "outputs": [
    {
     "name": "stdout",
     "output_type": "stream",
     "text": [
      "issue with:  pineapple-rum\n"
     ]
    }
   ],
   "source": [
    "import requests\n",
    "\n",
    "for category_id in images:\n",
    "    try:\n",
    "        response = requests.get(images[category_id])\n",
    "        file_name = category_id.replace(' ', '-') + '.png'\n",
    "        file = open(file_name, \"wb\")\n",
    "        file.write(response.content)\n",
    "        file.close()\n",
    "        client.upload_file(file_name, bucket_name, file_name)\n",
    "    except:\n",
    "        print('issue with: ', category_id)"
   ]
  },
  {
   "cell_type": "markdown",
   "metadata": {},
   "source": [
    "# Check Ingredient Counts ready for Production"
   ]
  },
  {
   "cell_type": "code",
   "execution_count": null,
   "metadata": {},
   "outputs": [],
   "source": []
  }
 ],
 "metadata": {
  "kernelspec": {
   "display_name": "Python 3 (ipykernel)",
   "language": "python",
   "name": "python3"
  },
  "language_info": {
   "codemirror_mode": {
    "name": "ipython",
    "version": 3
   },
   "file_extension": ".py",
   "mimetype": "text/x-python",
   "name": "python",
   "nbconvert_exporter": "python",
   "pygments_lexer": "ipython3",
   "version": "3.9.8"
  }
 },
 "nbformat": 4,
 "nbformat_minor": 4
}
