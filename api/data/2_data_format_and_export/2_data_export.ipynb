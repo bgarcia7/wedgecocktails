{
 "cells": [
  {
   "cell_type": "markdown",
   "metadata": {
    "jp-MarkdownHeadingCollapsed": true,
    "tags": []
   },
   "source": [
    "# Data Export\n",
    "1. Copies cocktails_db.pkl into api/src <i>(to be deployed with the next lambda)</i>\n",
    "2. Uploads ingredients_db.pkl to algolia"
   ]
  },
  {
   "cell_type": "markdown",
   "metadata": {},
   "source": [
    "# 1. Copies cocktails_db.pkl into api/src"
   ]
  },
  {
   "cell_type": "code",
   "execution_count": 18,
   "metadata": {},
   "outputs": [
    {
     "data": {
      "text/plain": [
       "0"
      ]
     },
     "execution_count": 18,
     "metadata": {},
     "output_type": "execute_result"
    }
   ],
   "source": [
    "import os\n",
    "os.system('cp cocktails_db.pkl ../../src/')"
   ]
  },
  {
   "cell_type": "markdown",
   "metadata": {},
   "source": [
    "# 2. Uploads ingredients_db.pkl to Algolia"
   ]
  },
  {
   "cell_type": "code",
   "execution_count": 19,
   "metadata": {},
   "outputs": [
    {
     "data": {
      "text/plain": [
       "<algoliasearch.responses.IndexingResponse at 0x12004bac0>"
      ]
     },
     "execution_count": 19,
     "metadata": {},
     "output_type": "execute_result"
    }
   ],
   "source": [
    "import pickle\n",
    "from algoliasearch.search_client import SearchClient\n",
    "client = SearchClient.create('XDZGBI1FCU', '81aed0e97eb67f4d0c54548d18fc2fff')\n",
    "index = client.init_index('ingredients')\n",
    "index.clear_objects()\n"
   ]
  },
  {
   "cell_type": "code",
   "execution_count": 20,
   "metadata": {},
   "outputs": [
    {
     "name": "stdout",
     "output_type": "stream",
     "text": [
      "553 total ingredients\n",
      "242 ingredients to upload\n"
     ]
    }
   ],
   "source": [
    "import boto3\n",
    "\n",
    "icdf = pickle.load(open('ingredients_db.pkl', 'rb'))\n",
    "print('{} total ingredients'.format(len(icdf)))\n",
    "\n",
    "# Remove ingredients without an image in S3\n",
    "bucket_name='wedgecocktail-ingredient-images'\n",
    "session = boto3.Session(profile_name='default')\n",
    "client = session.client('s3', region_name='us-west-2')\n",
    "s3_images = [key['Key'].replace('.png', '') for key in client.list_objects(Bucket=bucket_name)['Contents']]\n",
    "icdf = icdf.loc[icdf.objectID.isin(s3_images)]\n",
    "\n",
    "# Remove blacklisted category_ids\n",
    "blacklist = ['water', 'ice']\n",
    "icdf = icdf.loc[~icdf.objectID.isin(blacklist)]\n",
    "\n",
    "to_upload = icdf.to_dict(orient='records')\n",
    "\n",
    "print('{} ingredients to upload'.format(len(to_upload)))"
   ]
  },
  {
   "cell_type": "code",
   "execution_count": 21,
   "metadata": {},
   "outputs": [
    {
     "data": {
      "text/plain": [
       "<algoliasearch.responses.IndexingResponse at 0x12da615e0>"
      ]
     },
     "execution_count": 21,
     "metadata": {},
     "output_type": "execute_result"
    }
   ],
   "source": [
    "index.save_objects(to_upload)\n",
    "index.set_settings({\"searchableAttributes\": [\"name\"]})"
   ]
  },
  {
   "cell_type": "markdown",
   "metadata": {},
   "source": [
    "# Scratch Cocktail DF Exploration"
   ]
  },
  {
   "cell_type": "code",
   "execution_count": 2,
   "metadata": {},
   "outputs": [],
   "source": [
    "import pickle\n",
    "import pandas as pd"
   ]
  },
  {
   "cell_type": "code",
   "execution_count": 6,
   "metadata": {},
   "outputs": [],
   "source": [
    "cdf = pickle.load(open('../../src/cocktails_db.pkl', 'rb'))"
   ]
  },
  {
   "cell_type": "code",
   "execution_count": 7,
   "metadata": {},
   "outputs": [
    {
     "data": {
      "text/plain": [
       "2980"
      ]
     },
     "execution_count": 7,
     "metadata": {},
     "output_type": "execute_result"
    }
   ],
   "source": [
    "len(cdf)"
   ]
  },
  {
   "cell_type": "code",
   "execution_count": 16,
   "metadata": {},
   "outputs": [],
   "source": [
    "to_add = [\n",
    "    {\n",
    "        'name':'Screwdriver',\n",
    "        'image_url':'https://us.inshaker.com/uploads/cocktail/hires/52/1629735771-%D0%9E%D1%82%D0%B2%D0%B5%D1%80%D1%82%D0%BA%D0%B0.jpg',\n",
    "        'serving_container':'Collins Glass',\n",
    "        'instructions':'STIR (preferably with a screwdriver) all ingredients with ice and strain into ice-filled glass.',\n",
    "        'objectID':'screwdriver',\n",
    "        'num_ingredients':2,\n",
    "        'ingredients':[{'quantity':'1 1/2 fl oz','name':'vodka'},{'quantity':'5 fl oz','name':'orange juice'}],\n",
    "        'ingredient_categories':['vodka','orange-juice']\n",
    "    },\n",
    "        {\n",
    "        'name':'Vodka Soda',\n",
    "        'image_url':'https://kinkybeverages.com/wp-content/uploads/2020/07/Vodka-Soda.png',\n",
    "        'serving_container':'Collins Glass',\n",
    "        'instructions':'POUR ingredients into ice-filled glass and lightly stir (so as not to lose fizz). Garnish with lime.',\n",
    "        'objectID':'vodka-soda',\n",
    "        'num_ingredients':2,\n",
    "        'ingredients':[{'quantity':'2 fl oz','name':'vodka'},{'quantity':'5 fl oz','name':'soda water'}],\n",
    "        'ingredient_categories':['vodka','soda-water']\n",
    "    },\n",
    "    {\n",
    "        'name':'Vodka Tonic',\n",
    "        'image_url':'https://kinkybeverages.com/wp-content/uploads/2020/07/Vodka-Soda.png',\n",
    "        'serving_container':'Collins Glass',\n",
    "        'instructions':'POUR ingredients into ice-filled glass and lightly stir (so as not to lose fizz). Garnish with lime.',\n",
    "        'objectID':'vodka-tonic',\n",
    "        'num_ingredients':2,\n",
    "        'ingredients':[{'quantity':'2 fl oz','name':'vodka'},{'quantity':'5 fl oz','name':'tonic water'}],\n",
    "        'ingredient_categories':['vodka','tonic-water']\n",
    "    }\n",
    "]"
   ]
  },
  {
   "cell_type": "code",
   "execution_count": 17,
   "metadata": {},
   "outputs": [],
   "source": [
    "adf = pd.DataFrame(to_add)"
   ]
  },
  {
   "cell_type": "code",
   "execution_count": 18,
   "metadata": {},
   "outputs": [
    {
     "data": {
      "text/plain": [
       "2980"
      ]
     },
     "execution_count": 18,
     "metadata": {},
     "output_type": "execute_result"
    }
   ],
   "source": [
    "len(cdf)"
   ]
  },
  {
   "cell_type": "code",
   "execution_count": 22,
   "metadata": {},
   "outputs": [
    {
     "data": {
      "text/plain": [
       "2983"
      ]
     },
     "execution_count": 22,
     "metadata": {},
     "output_type": "execute_result"
    }
   ],
   "source": [
    "len(pd.concat([cdf, adf]))"
   ]
  },
  {
   "cell_type": "code",
   "execution_count": 23,
   "metadata": {},
   "outputs": [],
   "source": [
    "cdf = pd.concat([cdf, adf])"
   ]
  },
  {
   "cell_type": "code",
   "execution_count": 24,
   "metadata": {},
   "outputs": [],
   "source": [
    "pickle.dump(cdf, open('cocktails_db.pkl','wb'))"
   ]
  },
  {
   "cell_type": "code",
   "execution_count": null,
   "metadata": {},
   "outputs": [],
   "source": []
  }
 ],
 "metadata": {
  "kernelspec": {
   "display_name": "Python 3 (ipykernel)",
   "language": "python",
   "name": "python3"
  },
  "language_info": {
   "codemirror_mode": {
    "name": "ipython",
    "version": 3
   },
   "file_extension": ".py",
   "mimetype": "text/x-python",
   "name": "python",
   "nbconvert_exporter": "python",
   "pygments_lexer": "ipython3",
   "version": "3.9.8"
  }
 },
 "nbformat": 4,
 "nbformat_minor": 4
}
