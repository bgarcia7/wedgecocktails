{
 "cells": [
  {
   "cell_type": "markdown",
   "metadata": {},
   "source": [
    "# Data Export\n",
    "1. Copies cocktails_db.pkl into api/src <i>(to be deployed with the next lambda)</i>\n",
    "2. Uploads ingredients_db.pkl to algolia"
   ]
  },
  {
   "cell_type": "markdown",
   "metadata": {},
   "source": [
    "# 1. Copies cocktails_db.pkl into api/src"
   ]
  },
  {
   "cell_type": "code",
   "execution_count": 59,
   "metadata": {},
   "outputs": [
    {
     "data": {
      "text/plain": [
       "0"
      ]
     },
     "execution_count": 59,
     "metadata": {},
     "output_type": "execute_result"
    }
   ],
   "source": [
    "import os\n",
    "os.system('cp cocktails_db.pkl ../../src/')"
   ]
  },
  {
   "cell_type": "markdown",
   "metadata": {},
   "source": [
    "# 2. Uploads ingredients_db.pkl to Algolia"
   ]
  },
  {
   "cell_type": "code",
   "execution_count": 60,
   "metadata": {},
   "outputs": [
    {
     "data": {
      "text/plain": [
       "<algoliasearch.responses.IndexingResponse at 0x1227c9b70>"
      ]
     },
     "execution_count": 60,
     "metadata": {},
     "output_type": "execute_result"
    }
   ],
   "source": [
    "import pickle\n",
    "from algoliasearch.search_client import SearchClient\n",
    "client = SearchClient.create('XDZGBI1FCU', '81aed0e97eb67f4d0c54548d18fc2fff')\n",
    "index = client.init_index('ingredients')\n",
    "index.clear_objects()\n"
   ]
  },
  {
   "cell_type": "code",
   "execution_count": 61,
   "metadata": {},
   "outputs": [
    {
     "name": "stdout",
     "output_type": "stream",
     "text": [
      "394 total ingredients\n",
      "186 ingredients to upload\n"
     ]
    }
   ],
   "source": [
    "import boto3\n",
    "\n",
    "icdf = pickle.load(open('ingredients_db.pkl', 'rb'))\n",
    "print('{} total ingredients'.format(len(icdf)))\n",
    "\n",
    "# Remove ingredients without an image in S3\n",
    "bucket_name='cocktail-ingredient-images'\n",
    "session = boto3.Session(profile_name='personal')\n",
    "client = session.client('s3', region_name='us-west-2')\n",
    "s3_images = [key['Key'].replace('.png', '') for key in client.list_objects(Bucket=bucket_name)['Contents']]\n",
    "icdf = icdf.loc[icdf.objectID.isin(s3_images)]\n",
    "\n",
    "# Remove blacklisted category_ids\n",
    "blacklist = ['water', 'ice']\n",
    "icdf = icdf.loc[~icdf.objectID.isin(blacklist)]\n",
    "\n",
    "to_upload = icdf.to_dict(orient='records')\n",
    "\n",
    "print('{} ingredients to upload'.format(len(to_upload)))"
   ]
  },
  {
   "cell_type": "code",
   "execution_count": 62,
   "metadata": {},
   "outputs": [
    {
     "data": {
      "text/plain": [
       "<algoliasearch.responses.IndexingResponse at 0x122bf8be0>"
      ]
     },
     "execution_count": 62,
     "metadata": {},
     "output_type": "execute_result"
    }
   ],
   "source": [
    "index.save_objects(to_upload)\n",
    "index.set_settings({\"searchableAttributes\": [\"name\"]})"
   ]
  },
  {
   "cell_type": "code",
   "execution_count": null,
   "metadata": {},
   "outputs": [],
   "source": []
  },
  {
   "cell_type": "code",
   "execution_count": null,
   "metadata": {},
   "outputs": [],
   "source": []
  }
 ],
 "metadata": {
  "kernelspec": {
   "display_name": "Python 3",
   "language": "python",
   "name": "python3"
  },
  "language_info": {
   "codemirror_mode": {
    "name": "ipython",
    "version": 3
   },
   "file_extension": ".py",
   "mimetype": "text/x-python",
   "name": "python",
   "nbconvert_exporter": "python",
   "pygments_lexer": "ipython3",
   "version": "3.7.3"
  }
 },
 "nbformat": 4,
 "nbformat_minor": 4
}
