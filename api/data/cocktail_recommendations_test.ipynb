{
 "cells": [
  {
   "cell_type": "markdown",
   "metadata": {},
   "source": [
    "# Test Cocktail Recommendations"
   ]
  },
  {
   "cell_type": "code",
   "execution_count": null,
   "metadata": {},
   "outputs": [],
   "source": [
    "ing_to_filter = set([\n",
    "    \"old-krupnik\",\n",
    "    \"lemon-juice-freshly-squeezed\",\n",
    "    \"giffard-sugar-cane-syrup\",\n",
    "    \"pasteurised-egg-white\",\n",
    "    \"angostura-aromatic-bitters\",\n",
    "])\n",
    "\n",
    "ing_to_filter = [ \"lemon-juice-freshly-squeezed\", \"angostura-aromatic-bitters\"]\n",
    "ing_to_filter = [ \"lemon-juice\", \"whiskey\"]\n",
    "\n",
    "cdf = pickle.load(open('cocktails_db.pkl', 'rb'))\n",
    "cdf['ing_hits'] = cdf.ingredient_categories.map(lambda x: [y for y in x if y in ing_to_filter])\n",
    "cdf['perc_ing'] = cdf.ing_hits.map(lambda x: float(len(x)))/cdf.num_ingredients\n",
    "cdf = cdf.sort_values('perc_ing', ascending=False)"
   ]
  },
  {
   "cell_type": "code",
   "execution_count": null,
   "metadata": {},
   "outputs": [],
   "source": [
    "\n",
    "from IPython.display import HTML, display\n",
    "\n",
    "def display_results(results):\n",
    "    html = ''\n",
    "    for r in results:\n",
    "        html += '<div style=\"width:200px; border:1px solid black; margin:10px; padding:10px;\"><img src=\"' + r['image_url'] + '\"/><p>' + r['name'] + '</p><ul><li>' '</li><li>'.join([x['name'] for x in r['ingredients']]) + '</li></ul><p>' 'PERC: ' + str(r['perc_ing']) + '</p></div>'\n",
    "                    \n",
    "    html = '<div style=\"display:flex; flex-wrap:wrap;\">' + html + '</div>'\n",
    "    display(HTML(html))\n",
    "\n",
    "display_results(cdf.to_dict(orient='records')[:10])"
   ]
  },
  {
   "cell_type": "markdown",
   "metadata": {},
   "source": [
    "# Test Lambda Recs"
   ]
  },
  {
   "cell_type": "code",
   "execution_count": null,
   "metadata": {},
   "outputs": [],
   "source": [
    "import requests\n",
    "ing_to_filter = [ \"lemon-juice-freshly-squeezed\"]\n",
    "# requests.post('http://127.0.0.1:5000/recommend_cocktails',  json={'ingredients':ing_to_filter}).json()\n",
    "results = requests.post('https://1b9fgtrkz8.execute-api.us-west-2.amazonaws.com/dev/recommend_cocktails',  json={'ingredients':ing_to_filter}).json()['cocktails']"
   ]
  }
 ],
 "metadata": {
  "kernelspec": {
   "display_name": "Python 3",
   "language": "python",
   "name": "python3"
  },
  "language_info": {
   "codemirror_mode": {
    "name": "ipython",
    "version": 3
   },
   "file_extension": ".py",
   "mimetype": "text/x-python",
   "name": "python",
   "nbconvert_exporter": "python",
   "pygments_lexer": "ipython3",
   "version": "3.7.3"
  }
 },
 "nbformat": 4,
 "nbformat_minor": 4
}
